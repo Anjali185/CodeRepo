{
 "cells": [
  {
   "cell_type": "markdown",
   "metadata": {},
   "source": [
    "# For Loop"
   ]
  },
  {
   "cell_type": "code",
   "execution_count": 4,
   "metadata": {},
   "outputs": [
    {
     "data": {
      "text/plain": [
       "range(0, 10)"
      ]
     },
     "execution_count": 4,
     "metadata": {},
     "output_type": "execute_result"
    }
   ],
   "source": [
    "range(10)"
   ]
  },
  {
   "cell_type": "code",
   "execution_count": 13,
   "metadata": {},
   "outputs": [
    {
     "data": {
      "text/plain": [
       "[11, 21, 31, 41, 51, 61, 71, 81, 91]"
      ]
     },
     "execution_count": 13,
     "metadata": {},
     "output_type": "execute_result"
    }
   ],
   "source": [
    "list(range(11,100,10))"
   ]
  },
  {
   "cell_type": "code",
   "execution_count": 16,
   "metadata": {},
   "outputs": [
    {
     "name": "stdout",
     "output_type": "stream",
     "text": [
      "0 :: Hello To World\n",
      "\n",
      "++++++++++++++++++++++++++++++++++++++++\n",
      "1 :: Hello To World\n",
      "\n",
      "++++++++++++++++++++++++++++++++++++++++\n",
      "2 :: Hello To World\n",
      "\n",
      "++++++++++++++++++++++++++++++++++++++++\n",
      "3 :: Hello To World\n",
      "\n",
      "++++++++++++++++++++++++++++++++++++++++\n",
      "4 :: Hello To World\n",
      "\n",
      "++++++++++++++++++++++++++++++++++++++++\n",
      "5 :: Hello To World\n",
      "\n",
      "++++++++++++++++++++++++++++++++++++++++\n",
      "6 :: Hello To World\n",
      "\n",
      "++++++++++++++++++++++++++++++++++++++++\n",
      "7 :: Hello To World\n",
      "\n",
      "++++++++++++++++++++++++++++++++++++++++\n",
      "8 :: Hello To World\n",
      "\n",
      "++++++++++++++++++++++++++++++++++++++++\n",
      "9 :: Hello To World\n",
      "\n",
      "++++++++++++++++++++++++++++++++++++++++\n"
     ]
    }
   ],
   "source": [
    "for i in range(10):\n",
    "    print(f'{i} :: Hello To World')\n",
    "    print('\\n++++++++++++++++++++++++++++++++++++++++')"
   ]
  },
  {
   "cell_type": "code",
   "execution_count": 21,
   "metadata": {},
   "outputs": [
    {
     "data": {
      "text/plain": [
       "['a', 'b', 'c', 'd', 'e', 'f', 67, 56]"
      ]
     },
     "execution_count": 21,
     "metadata": {},
     "output_type": "execute_result"
    }
   ],
   "source": [
    "names = ['a','b','c','d','e','f',67,56]\n",
    "names"
   ]
  },
  {
   "cell_type": "code",
   "execution_count": 22,
   "metadata": {},
   "outputs": [
    {
     "name": "stdout",
     "output_type": "stream",
     "text": [
      "Element Values : a Datatypes : <class 'str'>\n",
      "Element Values : b Datatypes : <class 'str'>\n",
      "Element Values : c Datatypes : <class 'str'>\n",
      "Element Values : d Datatypes : <class 'str'>\n",
      "Element Values : e Datatypes : <class 'str'>\n",
      "Element Values : f Datatypes : <class 'str'>\n",
      "Element Values : 67 Datatypes : <class 'int'>\n",
      "Element Values : 56 Datatypes : <class 'int'>\n"
     ]
    }
   ],
   "source": [
    "for i in names:\n",
    "    print(f'Element Values : {i} Datatypes : {type(i)}')"
   ]
  },
  {
   "cell_type": "code",
   "execution_count": 24,
   "metadata": {},
   "outputs": [
    {
     "name": "stdout",
     "output_type": "stream",
     "text": [
      "0 is even number\n",
      "1 is not odd number\n",
      "2 is even number\n",
      "3 is not odd number\n",
      "4 is even number\n",
      "5 is not odd number\n",
      "6 is even number\n",
      "7 is not odd number\n",
      "8 is even number\n",
      "9 is not odd number\n",
      "10 is even number\n",
      "11 is not odd number\n",
      "12 is even number\n",
      "13 is not odd number\n",
      "14 is even number\n",
      "15 is not odd number\n",
      "16 is even number\n",
      "17 is not odd number\n",
      "18 is even number\n",
      "19 is not odd number\n",
      "20 is even number\n",
      "21 is not odd number\n",
      "22 is even number\n",
      "23 is not odd number\n",
      "24 is even number\n",
      "25 is not odd number\n",
      "26 is even number\n",
      "27 is not odd number\n",
      "28 is even number\n",
      "29 is not odd number\n",
      "30 is even number\n",
      "31 is not odd number\n",
      "32 is even number\n",
      "33 is not odd number\n",
      "34 is even number\n",
      "35 is not odd number\n",
      "36 is even number\n",
      "37 is not odd number\n",
      "38 is even number\n",
      "39 is not odd number\n",
      "40 is even number\n",
      "41 is not odd number\n",
      "42 is even number\n",
      "43 is not odd number\n",
      "44 is even number\n",
      "45 is not odd number\n",
      "46 is even number\n",
      "47 is not odd number\n",
      "48 is even number\n",
      "49 is not odd number\n",
      "50 is even number\n",
      "51 is not odd number\n",
      "52 is even number\n",
      "53 is not odd number\n",
      "54 is even number\n",
      "55 is not odd number\n",
      "56 is even number\n",
      "57 is not odd number\n",
      "58 is even number\n",
      "59 is not odd number\n",
      "60 is even number\n",
      "61 is not odd number\n",
      "62 is even number\n",
      "63 is not odd number\n",
      "64 is even number\n",
      "65 is not odd number\n",
      "66 is even number\n",
      "67 is not odd number\n",
      "68 is even number\n",
      "69 is not odd number\n",
      "70 is even number\n",
      "71 is not odd number\n",
      "72 is even number\n",
      "73 is not odd number\n",
      "74 is even number\n",
      "75 is not odd number\n",
      "76 is even number\n",
      "77 is not odd number\n",
      "78 is even number\n",
      "79 is not odd number\n"
     ]
    }
   ],
   "source": [
    "# print all the even numbers from the list\n",
    "\n",
    "for i in range(80):\n",
    "    if i%2==0:\n",
    "        print(f'{i} is even number')\n",
    "    else:\n",
    "        print(f'{i} is not odd number')"
   ]
  },
  {
   "cell_type": "code",
   "execution_count": 26,
   "metadata": {},
   "outputs": [
    {
     "data": {
      "text/plain": [
       "[0,\n",
       " 2,\n",
       " 4,\n",
       " 6,\n",
       " 8,\n",
       " 10,\n",
       " 12,\n",
       " 14,\n",
       " 16,\n",
       " 18,\n",
       " 20,\n",
       " 22,\n",
       " 24,\n",
       " 26,\n",
       " 28,\n",
       " 30,\n",
       " 32,\n",
       " 34,\n",
       " 36,\n",
       " 38,\n",
       " 40,\n",
       " 42,\n",
       " 44,\n",
       " 46,\n",
       " 48,\n",
       " 50,\n",
       " 52,\n",
       " 54,\n",
       " 56,\n",
       " 58]"
      ]
     },
     "execution_count": 26,
     "metadata": {},
     "output_type": "execute_result"
    }
   ],
   "source": [
    "even = []\n",
    "odd = []\n",
    "for i in range(60):\n",
    "    if i%2==0:\n",
    "        even.append(i)\n",
    "    else:\n",
    "        odd.append(i)\n",
    "\n",
    "even"
   ]
  }
 ],
 "metadata": {
  "kernelspec": {
   "display_name": "venv",
   "language": "python",
   "name": "python3"
  },
  "language_info": {
   "codemirror_mode": {
    "name": "ipython",
    "version": 3
   },
   "file_extension": ".py",
   "mimetype": "text/x-python",
   "name": "python",
   "nbconvert_exporter": "python",
   "pygments_lexer": "ipython3",
   "version": "3.11.4"
  },
  "orig_nbformat": 4
 },
 "nbformat": 4,
 "nbformat_minor": 2
}
